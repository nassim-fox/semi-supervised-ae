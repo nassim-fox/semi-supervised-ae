{
  "nbformat": 4,
  "nbformat_minor": 0,
  "metadata": {
    "colab": {
      "name": "semi_supervised_AE_mnist.ipynb",
      "provenance": [],
      "authorship_tag": "ABX9TyMgP1f7q6k43l6ZImHeEH/G",
      "include_colab_link": true
    },
    "kernelspec": {
      "name": "python3",
      "display_name": "Python 3"
    },
    "accelerator": "GPU"
  },
  "cells": [
    {
      "cell_type": "markdown",
      "metadata": {
        "id": "view-in-github",
        "colab_type": "text"
      },
      "source": [
        "<a href=\"https://colab.research.google.com/github/nassim-fox/semi-supervised-ae/blob/master/semi_supervised_AE_mnist.ipynb\" target=\"_parent\"><img src=\"https://colab.research.google.com/assets/colab-badge.svg\" alt=\"Open In Colab\"/></a>"
      ]
    },
    {
      "cell_type": "code",
      "metadata": {
        "id": "4Vdsl2Ih-Atb",
        "colab_type": "code",
        "colab": {}
      },
      "source": [
        "from keras.layers import Input, Dense, Conv2D, MaxPooling2D, UpSampling2D, Reshape, Flatten\n",
        "from keras.models import Model\n",
        "from keras import backend as K\n",
        "import tensorflow as tf\n",
        "import numpy as np\n"
      ],
      "execution_count": 0,
      "outputs": []
    },
    {
      "cell_type": "markdown",
      "metadata": {
        "id": "JkP68FYaiQVG",
        "colab_type": "text"
      },
      "source": [
        "# ae"
      ]
    },
    {
      "cell_type": "code",
      "metadata": {
        "id": "xo5NMHwGiFwc",
        "colab_type": "code",
        "colab": {}
      },
      "source": [
        "\n",
        "latent_dim = 32 \n",
        "\n",
        "#encoder\n",
        "input_e = Input(shape=(28, 28, 1))  \n",
        "\n",
        "x = Conv2D(16, (3, 3), activation='relu', padding='same')(input_e)\n",
        "x = MaxPooling2D((2, 2), padding='same')(x)\n",
        "x = Conv2D(8, (3, 3), activation='relu', padding='same')(x)\n",
        "x = MaxPooling2D((2, 2), padding='same')(x)\n",
        "x = Conv2D(8, (3, 3), activation='relu', padding='same')(x)\n",
        "x = MaxPooling2D((2, 2), padding='same')(x)\n",
        "s_shape = K.int_shape(x)\n",
        "x = Flatten()(x)\n",
        "x = Dense(512,activation=\"relu\")(x)\n",
        "latent = Dense(latent_dim)(x)\n",
        "\n",
        "encoder = Model(input_e,latent,name=\"encoder\")"
      ],
      "execution_count": 0,
      "outputs": []
    },
    {
      "cell_type": "code",
      "metadata": {
        "id": "gS_xtDCHiI7K",
        "colab_type": "code",
        "colab": {}
      },
      "source": [
        "\n",
        "#decoder\n",
        "\n",
        "input_d = Input(shape=(latent_dim,))\n",
        "x = Dense(np.prod(s_shape[1:]))(input_d)\n",
        "x = Reshape((s_shape[1],s_shape[2],s_shape[3]))(x)\n",
        "x = Conv2D(8, (3, 3), activation='relu', padding='same')(x)\n",
        "x = UpSampling2D((2, 2))(x)\n",
        "x = Conv2D(8, (3, 3), activation='relu', padding='same')(x)\n",
        "x = UpSampling2D((2, 2))(x)\n",
        "x = Conv2D(16, (3, 3), activation='relu')(x)\n",
        "x = UpSampling2D((2, 2))(x)\n",
        "output = Conv2D(1, (3, 3), activation='sigmoid', padding='same')(x)\n",
        "\n",
        "decoder = Model(input_d,output,name=\"decoder\")\n",
        "decoder.summary()\n",
        "\n",
        "#not needed\n",
        "autoencoder = Model(input_e,decoder(encoder(input_e)))\n",
        "autoencoder.compile(optimizer='adam', loss='binary_crossentropy') \n"
      ],
      "execution_count": 0,
      "outputs": []
    },
    {
      "cell_type": "markdown",
      "metadata": {
        "id": "8A5zgUm6iMan",
        "colab_type": "text"
      },
      "source": [
        "# cnn"
      ]
    },
    {
      "cell_type": "code",
      "metadata": {
        "id": "Wm88uIa3fRzZ",
        "colab_type": "code",
        "colab": {
          "base_uri": "https://localhost:8080/",
          "height": 487
        },
        "outputId": "b13f4f8a-bedd-4692-b7bc-24d02672c360"
      },
      "source": [
        "\n",
        "input_c = Input(shape=(latent_dim,))\n",
        "x = Dense(np.prod(s_shape[1:]))(input_c)\n",
        "x = Reshape((s_shape[1],s_shape[2],s_shape[3]))(x)\n",
        "x = Conv2D(32, (3, 3), activation='relu', padding='same')(x)\n",
        "x = MaxPooling2D((2, 2), padding='same')(x)\n",
        "x = Conv2D(16, (3, 3), activation='relu', padding='same')(x)\n",
        "x = MaxPooling2D((2, 2), padding='same')(x)\n",
        "\n",
        "x = Flatten()(x)\n",
        "x = Dense(128,activation=\"relu\")(x)\n",
        "x = Dense(10,activation=\"softmax\")(x)\n",
        "\n",
        "cnn = Model(input_c,x)\n",
        "\n",
        "cnn.summary()"
      ],
      "execution_count": 15,
      "outputs": [
        {
          "output_type": "stream",
          "text": [
            "Model: \"model_2\"\n",
            "_________________________________________________________________\n",
            "Layer (type)                 Output Shape              Param #   \n",
            "=================================================================\n",
            "input_21 (InputLayer)        (None, 32)                0         \n",
            "_________________________________________________________________\n",
            "dense_21 (Dense)             (None, 128)               4224      \n",
            "_________________________________________________________________\n",
            "reshape_7 (Reshape)          (None, 4, 4, 8)           0         \n",
            "_________________________________________________________________\n",
            "conv2d_32 (Conv2D)           (None, 4, 4, 32)          2336      \n",
            "_________________________________________________________________\n",
            "max_pooling2d_23 (MaxPooling (None, 2, 2, 32)          0         \n",
            "_________________________________________________________________\n",
            "conv2d_33 (Conv2D)           (None, 2, 2, 16)          4624      \n",
            "_________________________________________________________________\n",
            "max_pooling2d_24 (MaxPooling (None, 1, 1, 16)          0         \n",
            "_________________________________________________________________\n",
            "flatten_8 (Flatten)          (None, 16)                0         \n",
            "_________________________________________________________________\n",
            "dense_22 (Dense)             (None, 128)               2176      \n",
            "_________________________________________________________________\n",
            "dense_23 (Dense)             (None, 10)                1290      \n",
            "=================================================================\n",
            "Total params: 14,650\n",
            "Trainable params: 14,650\n",
            "Non-trainable params: 0\n",
            "_________________________________________________________________\n"
          ],
          "name": "stdout"
        }
      ]
    },
    {
      "cell_type": "code",
      "metadata": {
        "id": "OlLjVLWAgnwf",
        "colab_type": "code",
        "colab": {
          "base_uri": "https://localhost:8080/",
          "height": 302
        },
        "outputId": "f617605c-2850-4895-8c17-6cb13dd43d2e"
      },
      "source": [
        "model = Model(input_e,[cnn(encoder(input_e)),decoder(encoder(input_e))])\n",
        "model.summary()"
      ],
      "execution_count": 17,
      "outputs": [
        {
          "output_type": "stream",
          "text": [
            "Model: \"model_3\"\n",
            "__________________________________________________________________________________________________\n",
            "Layer (type)                    Output Shape         Param #     Connected to                     \n",
            "==================================================================================================\n",
            "input_13 (InputLayer)           (None, 28, 28, 1)    0                                            \n",
            "__________________________________________________________________________________________________\n",
            "encoder (Model)                 (None, 32)           84368       input_13[0][0]                   \n",
            "                                                                 input_13[0][0]                   \n",
            "__________________________________________________________________________________________________\n",
            "model_2 (Model)                 (None, 10)           14650       encoder[3][0]                    \n",
            "__________________________________________________________________________________________________\n",
            "decoder (Model)                 (None, 28, 28, 1)    6705        encoder[4][0]                    \n",
            "==================================================================================================\n",
            "Total params: 105,723\n",
            "Trainable params: 105,723\n",
            "Non-trainable params: 0\n",
            "__________________________________________________________________________________________________\n"
          ],
          "name": "stdout"
        }
      ]
    },
    {
      "cell_type": "markdown",
      "metadata": {
        "id": "zngGQE7biUQg",
        "colab_type": "text"
      },
      "source": [
        "# train"
      ]
    },
    {
      "cell_type": "code",
      "metadata": {
        "id": "QXfKgZxC-BbO",
        "colab_type": "code",
        "colab": {}
      },
      "source": [
        "from keras.datasets import mnist\n",
        "from keras.utils import to_categorical\n",
        "import numpy as np\n",
        "\n",
        "(x_train, y_train), (x_test, y_test) = mnist.load_data()\n",
        "\n",
        "x_train = x_train.astype('float32') / 255.\n",
        "x_test = x_test.astype('float32') / 255.\n",
        "x_train = np.reshape(x_train, (len(x_train), 28, 28, 1)) \n",
        "x_test = np.reshape(x_test, (len(x_test), 28, 28, 1))  \n",
        "y_train = to_categorical(y_train)\n",
        "y_test = to_categorical(y_test)"
      ],
      "execution_count": 0,
      "outputs": []
    },
    {
      "cell_type": "code",
      "metadata": {
        "id": "yZnAWf_q-Egx",
        "colab_type": "code",
        "colab": {
          "base_uri": "https://localhost:8080/",
          "height": 1000
        },
        "outputId": "fe6dcb41-f7e4-4bd1-ce12-e8d37416162b"
      },
      "source": [
        "\n",
        "model.compile(optimizer=\"adam\",loss=[\"categorical_crossentropy\",\"mse\"],metrics=[\"accuracy\"])\n",
        "\n",
        "model.fit(x_train, [y_train,x_train],\n",
        "                epochs=50,\n",
        "                batch_size=128,\n",
        "                shuffle=True,\n",
        "                validation_data=(x_test, [y_test,x_test]))\n"
      ],
      "execution_count": 25,
      "outputs": [
        {
          "output_type": "stream",
          "text": [
            "Train on 60000 samples, validate on 10000 samples\n",
            "Epoch 1/50\n",
            "60000/60000 [==============================] - 13s 209us/step - loss: 0.7020 - model_2_loss: 0.6445 - decoder_loss: 0.0573 - model_2_accuracy: 0.7756 - decoder_accuracy: 0.7963 - val_loss: 0.2753 - val_model_2_loss: 0.2331 - val_decoder_loss: 0.0404 - val_model_2_accuracy: 0.9276 - val_decoder_accuracy: 0.7990\n",
            "Epoch 2/50\n",
            "60000/60000 [==============================] - 6s 94us/step - loss: 0.1991 - model_2_loss: 0.1630 - decoder_loss: 0.0361 - model_2_accuracy: 0.9492 - decoder_accuracy: 0.7990 - val_loss: 0.1712 - val_model_2_loss: 0.1360 - val_decoder_loss: 0.0341 - val_model_2_accuracy: 0.9555 - val_decoder_accuracy: 0.8002\n",
            "Epoch 3/50\n",
            "60000/60000 [==============================] - 6s 95us/step - loss: 0.1416 - model_2_loss: 0.1101 - decoder_loss: 0.0314 - model_2_accuracy: 0.9661 - decoder_accuracy: 0.8022 - val_loss: 0.1143 - val_model_2_loss: 0.0844 - val_decoder_loss: 0.0290 - val_model_2_accuracy: 0.9726 - val_decoder_accuracy: 0.8027\n",
            "Epoch 4/50\n",
            "60000/60000 [==============================] - 6s 94us/step - loss: 0.1164 - model_2_loss: 0.0880 - decoder_loss: 0.0286 - model_2_accuracy: 0.9722 - decoder_accuracy: 0.8041 - val_loss: 0.0910 - val_model_2_loss: 0.0632 - val_decoder_loss: 0.0271 - val_model_2_accuracy: 0.9780 - val_decoder_accuracy: 0.8047\n",
            "Epoch 5/50\n",
            "60000/60000 [==============================] - 6s 94us/step - loss: 0.1005 - model_2_loss: 0.0740 - decoder_loss: 0.0265 - model_2_accuracy: 0.9765 - decoder_accuracy: 0.8054 - val_loss: 0.0907 - val_model_2_loss: 0.0641 - val_decoder_loss: 0.0259 - val_model_2_accuracy: 0.9792 - val_decoder_accuracy: 0.8051\n",
            "Epoch 6/50\n",
            "60000/60000 [==============================] - 6s 94us/step - loss: 0.0903 - model_2_loss: 0.0651 - decoder_loss: 0.0253 - model_2_accuracy: 0.9806 - decoder_accuracy: 0.8062 - val_loss: 0.0747 - val_model_2_loss: 0.0502 - val_decoder_loss: 0.0239 - val_model_2_accuracy: 0.9844 - val_decoder_accuracy: 0.8053\n",
            "Epoch 7/50\n",
            "60000/60000 [==============================] - 6s 97us/step - loss: 0.0816 - model_2_loss: 0.0575 - decoder_loss: 0.0241 - model_2_accuracy: 0.9818 - decoder_accuracy: 0.8069 - val_loss: 0.0706 - val_model_2_loss: 0.0474 - val_decoder_loss: 0.0228 - val_model_2_accuracy: 0.9840 - val_decoder_accuracy: 0.8062\n",
            "Epoch 8/50\n",
            "60000/60000 [==============================] - 6s 100us/step - loss: 0.0745 - model_2_loss: 0.0514 - decoder_loss: 0.0230 - model_2_accuracy: 0.9838 - decoder_accuracy: 0.8075 - val_loss: 0.0899 - val_model_2_loss: 0.0664 - val_decoder_loss: 0.0228 - val_model_2_accuracy: 0.9771 - val_decoder_accuracy: 0.8056\n",
            "Epoch 9/50\n",
            "60000/60000 [==============================] - 6s 100us/step - loss: 0.0747 - model_2_loss: 0.0520 - decoder_loss: 0.0227 - model_2_accuracy: 0.9836 - decoder_accuracy: 0.8076 - val_loss: 0.0711 - val_model_2_loss: 0.0482 - val_decoder_loss: 0.0229 - val_model_2_accuracy: 0.9847 - val_decoder_accuracy: 0.8057\n",
            "Epoch 10/50\n",
            "60000/60000 [==============================] - 6s 100us/step - loss: 0.0687 - model_2_loss: 0.0466 - decoder_loss: 0.0221 - model_2_accuracy: 0.9854 - decoder_accuracy: 0.8080 - val_loss: 0.0869 - val_model_2_loss: 0.0630 - val_decoder_loss: 0.0231 - val_model_2_accuracy: 0.9800 - val_decoder_accuracy: 0.8064\n",
            "Epoch 11/50\n",
            "60000/60000 [==============================] - 6s 94us/step - loss: 0.0640 - model_2_loss: 0.0423 - decoder_loss: 0.0217 - model_2_accuracy: 0.9871 - decoder_accuracy: 0.8081 - val_loss: 0.0578 - val_model_2_loss: 0.0370 - val_decoder_loss: 0.0204 - val_model_2_accuracy: 0.9883 - val_decoder_accuracy: 0.8087\n",
            "Epoch 12/50\n",
            "60000/60000 [==============================] - 6s 93us/step - loss: 0.0621 - model_2_loss: 0.0408 - decoder_loss: 0.0213 - model_2_accuracy: 0.9877 - decoder_accuracy: 0.8083 - val_loss: 0.0703 - val_model_2_loss: 0.0480 - val_decoder_loss: 0.0220 - val_model_2_accuracy: 0.9872 - val_decoder_accuracy: 0.8072\n",
            "Epoch 13/50\n",
            "60000/60000 [==============================] - 6s 93us/step - loss: 0.0581 - model_2_loss: 0.0371 - decoder_loss: 0.0210 - model_2_accuracy: 0.9881 - decoder_accuracy: 0.8085 - val_loss: 0.0706 - val_model_2_loss: 0.0497 - val_decoder_loss: 0.0205 - val_model_2_accuracy: 0.9864 - val_decoder_accuracy: 0.8069\n",
            "Epoch 14/50\n",
            "60000/60000 [==============================] - 6s 94us/step - loss: 0.0531 - model_2_loss: 0.0326 - decoder_loss: 0.0205 - model_2_accuracy: 0.9900 - decoder_accuracy: 0.8087 - val_loss: 0.0733 - val_model_2_loss: 0.0520 - val_decoder_loss: 0.0207 - val_model_2_accuracy: 0.9849 - val_decoder_accuracy: 0.8076\n",
            "Epoch 15/50\n",
            "60000/60000 [==============================] - 6s 93us/step - loss: 0.0524 - model_2_loss: 0.0321 - decoder_loss: 0.0204 - model_2_accuracy: 0.9895 - decoder_accuracy: 0.8088 - val_loss: 0.0737 - val_model_2_loss: 0.0536 - val_decoder_loss: 0.0196 - val_model_2_accuracy: 0.9838 - val_decoder_accuracy: 0.8084\n",
            "Epoch 16/50\n",
            "60000/60000 [==============================] - 6s 95us/step - loss: 0.0516 - model_2_loss: 0.0316 - decoder_loss: 0.0200 - model_2_accuracy: 0.9898 - decoder_accuracy: 0.8090 - val_loss: 0.0614 - val_model_2_loss: 0.0420 - val_decoder_loss: 0.0190 - val_model_2_accuracy: 0.9874 - val_decoder_accuracy: 0.8079\n",
            "Epoch 17/50\n",
            "60000/60000 [==============================] - 6s 94us/step - loss: 0.0471 - model_2_loss: 0.0274 - decoder_loss: 0.0197 - model_2_accuracy: 0.9912 - decoder_accuracy: 0.8092 - val_loss: 0.0660 - val_model_2_loss: 0.0463 - val_decoder_loss: 0.0192 - val_model_2_accuracy: 0.9865 - val_decoder_accuracy: 0.8085\n",
            "Epoch 18/50\n",
            "60000/60000 [==============================] - 6s 93us/step - loss: 0.0463 - model_2_loss: 0.0269 - decoder_loss: 0.0195 - model_2_accuracy: 0.9915 - decoder_accuracy: 0.8093 - val_loss: 0.0700 - val_model_2_loss: 0.0507 - val_decoder_loss: 0.0188 - val_model_2_accuracy: 0.9857 - val_decoder_accuracy: 0.8092\n",
            "Epoch 19/50\n",
            "60000/60000 [==============================] - 6s 93us/step - loss: 0.0440 - model_2_loss: 0.0247 - decoder_loss: 0.0193 - model_2_accuracy: 0.9920 - decoder_accuracy: 0.8094 - val_loss: 0.0594 - val_model_2_loss: 0.0401 - val_decoder_loss: 0.0188 - val_model_2_accuracy: 0.9880 - val_decoder_accuracy: 0.8086\n",
            "Epoch 20/50\n",
            "60000/60000 [==============================] - 6s 94us/step - loss: 0.0428 - model_2_loss: 0.0237 - decoder_loss: 0.0191 - model_2_accuracy: 0.9923 - decoder_accuracy: 0.8095 - val_loss: 0.0662 - val_model_2_loss: 0.0469 - val_decoder_loss: 0.0188 - val_model_2_accuracy: 0.9869 - val_decoder_accuracy: 0.8094\n",
            "Epoch 21/50\n",
            "60000/60000 [==============================] - 6s 93us/step - loss: 0.0410 - model_2_loss: 0.0222 - decoder_loss: 0.0188 - model_2_accuracy: 0.9927 - decoder_accuracy: 0.8097 - val_loss: 0.0537 - val_model_2_loss: 0.0351 - val_decoder_loss: 0.0183 - val_model_2_accuracy: 0.9894 - val_decoder_accuracy: 0.8093\n",
            "Epoch 22/50\n",
            "60000/60000 [==============================] - 6s 93us/step - loss: 0.0395 - model_2_loss: 0.0208 - decoder_loss: 0.0186 - model_2_accuracy: 0.9931 - decoder_accuracy: 0.8097 - val_loss: 0.0628 - val_model_2_loss: 0.0444 - val_decoder_loss: 0.0179 - val_model_2_accuracy: 0.9873 - val_decoder_accuracy: 0.8090\n",
            "Epoch 23/50\n",
            "60000/60000 [==============================] - 6s 94us/step - loss: 0.0403 - model_2_loss: 0.0217 - decoder_loss: 0.0187 - model_2_accuracy: 0.9928 - decoder_accuracy: 0.8097 - val_loss: 0.0570 - val_model_2_loss: 0.0387 - val_decoder_loss: 0.0178 - val_model_2_accuracy: 0.9887 - val_decoder_accuracy: 0.8087\n",
            "Epoch 24/50\n",
            "60000/60000 [==============================] - 6s 94us/step - loss: 0.0366 - model_2_loss: 0.0185 - decoder_loss: 0.0182 - model_2_accuracy: 0.9944 - decoder_accuracy: 0.8100 - val_loss: 0.0637 - val_model_2_loss: 0.0454 - val_decoder_loss: 0.0177 - val_model_2_accuracy: 0.9883 - val_decoder_accuracy: 0.8095\n",
            "Epoch 25/50\n",
            "60000/60000 [==============================] - 6s 94us/step - loss: 0.0359 - model_2_loss: 0.0178 - decoder_loss: 0.0181 - model_2_accuracy: 0.9940 - decoder_accuracy: 0.8100 - val_loss: 0.0612 - val_model_2_loss: 0.0428 - val_decoder_loss: 0.0179 - val_model_2_accuracy: 0.9871 - val_decoder_accuracy: 0.8096\n",
            "Epoch 26/50\n",
            "60000/60000 [==============================] - 6s 94us/step - loss: 0.0381 - model_2_loss: 0.0198 - decoder_loss: 0.0183 - model_2_accuracy: 0.9938 - decoder_accuracy: 0.8099 - val_loss: 0.0658 - val_model_2_loss: 0.0475 - val_decoder_loss: 0.0178 - val_model_2_accuracy: 0.9871 - val_decoder_accuracy: 0.8089\n",
            "Epoch 27/50\n",
            "60000/60000 [==============================] - 6s 93us/step - loss: 0.0352 - model_2_loss: 0.0173 - decoder_loss: 0.0180 - model_2_accuracy: 0.9946 - decoder_accuracy: 0.8101 - val_loss: 0.0628 - val_model_2_loss: 0.0447 - val_decoder_loss: 0.0176 - val_model_2_accuracy: 0.9889 - val_decoder_accuracy: 0.8098\n",
            "Epoch 28/50\n",
            "60000/60000 [==============================] - 6s 93us/step - loss: 0.0326 - model_2_loss: 0.0149 - decoder_loss: 0.0178 - model_2_accuracy: 0.9951 - decoder_accuracy: 0.8102 - val_loss: 0.0734 - val_model_2_loss: 0.0550 - val_decoder_loss: 0.0178 - val_model_2_accuracy: 0.9867 - val_decoder_accuracy: 0.8090\n",
            "Epoch 29/50\n",
            "60000/60000 [==============================] - 6s 93us/step - loss: 0.0340 - model_2_loss: 0.0163 - decoder_loss: 0.0177 - model_2_accuracy: 0.9947 - decoder_accuracy: 0.8103 - val_loss: 0.0618 - val_model_2_loss: 0.0444 - val_decoder_loss: 0.0169 - val_model_2_accuracy: 0.9879 - val_decoder_accuracy: 0.8092\n",
            "Epoch 30/50\n",
            "60000/60000 [==============================] - 6s 94us/step - loss: 0.0313 - model_2_loss: 0.0139 - decoder_loss: 0.0174 - model_2_accuracy: 0.9955 - decoder_accuracy: 0.8104 - val_loss: 0.0607 - val_model_2_loss: 0.0434 - val_decoder_loss: 0.0168 - val_model_2_accuracy: 0.9893 - val_decoder_accuracy: 0.8096\n",
            "Epoch 31/50\n",
            "60000/60000 [==============================] - 6s 94us/step - loss: 0.0326 - model_2_loss: 0.0154 - decoder_loss: 0.0173 - model_2_accuracy: 0.9951 - decoder_accuracy: 0.8105 - val_loss: 0.0833 - val_model_2_loss: 0.0646 - val_decoder_loss: 0.0179 - val_model_2_accuracy: 0.9830 - val_decoder_accuracy: 0.8091\n",
            "Epoch 32/50\n",
            "60000/60000 [==============================] - 6s 94us/step - loss: 0.0322 - model_2_loss: 0.0147 - decoder_loss: 0.0175 - model_2_accuracy: 0.9954 - decoder_accuracy: 0.8104 - val_loss: 0.0607 - val_model_2_loss: 0.0435 - val_decoder_loss: 0.0167 - val_model_2_accuracy: 0.9891 - val_decoder_accuracy: 0.8101\n",
            "Epoch 33/50\n",
            "60000/60000 [==============================] - 6s 94us/step - loss: 0.0303 - model_2_loss: 0.0132 - decoder_loss: 0.0171 - model_2_accuracy: 0.9958 - decoder_accuracy: 0.8106 - val_loss: 0.0565 - val_model_2_loss: 0.0392 - val_decoder_loss: 0.0168 - val_model_2_accuracy: 0.9892 - val_decoder_accuracy: 0.8101\n",
            "Epoch 34/50\n",
            "60000/60000 [==============================] - 6s 94us/step - loss: 0.0290 - model_2_loss: 0.0121 - decoder_loss: 0.0168 - model_2_accuracy: 0.9966 - decoder_accuracy: 0.8107 - val_loss: 0.0694 - val_model_2_loss: 0.0510 - val_decoder_loss: 0.0177 - val_model_2_accuracy: 0.9867 - val_decoder_accuracy: 0.8091\n",
            "Epoch 35/50\n",
            "60000/60000 [==============================] - 6s 94us/step - loss: 0.0286 - model_2_loss: 0.0116 - decoder_loss: 0.0170 - model_2_accuracy: 0.9961 - decoder_accuracy: 0.8106 - val_loss: 0.0724 - val_model_2_loss: 0.0551 - val_decoder_loss: 0.0166 - val_model_2_accuracy: 0.9854 - val_decoder_accuracy: 0.8093\n",
            "Epoch 36/50\n",
            "60000/60000 [==============================] - 6s 93us/step - loss: 0.0296 - model_2_loss: 0.0128 - decoder_loss: 0.0169 - model_2_accuracy: 0.9959 - decoder_accuracy: 0.8107 - val_loss: 0.0685 - val_model_2_loss: 0.0517 - val_decoder_loss: 0.0163 - val_model_2_accuracy: 0.9880 - val_decoder_accuracy: 0.8093\n",
            "Epoch 37/50\n",
            "60000/60000 [==============================] - 6s 93us/step - loss: 0.0305 - model_2_loss: 0.0135 - decoder_loss: 0.0170 - model_2_accuracy: 0.9956 - decoder_accuracy: 0.8106 - val_loss: 0.0607 - val_model_2_loss: 0.0438 - val_decoder_loss: 0.0165 - val_model_2_accuracy: 0.9896 - val_decoder_accuracy: 0.8103\n",
            "Epoch 38/50\n",
            "60000/60000 [==============================] - 6s 93us/step - loss: 0.0287 - model_2_loss: 0.0120 - decoder_loss: 0.0166 - model_2_accuracy: 0.9965 - decoder_accuracy: 0.8108 - val_loss: 0.0704 - val_model_2_loss: 0.0533 - val_decoder_loss: 0.0164 - val_model_2_accuracy: 0.9870 - val_decoder_accuracy: 0.8098\n",
            "Epoch 39/50\n",
            "60000/60000 [==============================] - 6s 93us/step - loss: 0.0301 - model_2_loss: 0.0134 - decoder_loss: 0.0167 - model_2_accuracy: 0.9960 - decoder_accuracy: 0.8108 - val_loss: 0.0572 - val_model_2_loss: 0.0410 - val_decoder_loss: 0.0158 - val_model_2_accuracy: 0.9896 - val_decoder_accuracy: 0.8102\n",
            "Epoch 40/50\n",
            "60000/60000 [==============================] - 6s 94us/step - loss: 0.0265 - model_2_loss: 0.0102 - decoder_loss: 0.0163 - model_2_accuracy: 0.9969 - decoder_accuracy: 0.8110 - val_loss: 0.0539 - val_model_2_loss: 0.0370 - val_decoder_loss: 0.0165 - val_model_2_accuracy: 0.9903 - val_decoder_accuracy: 0.8102\n",
            "Epoch 41/50\n",
            "60000/60000 [==============================] - 6s 94us/step - loss: 0.0250 - model_2_loss: 0.0089 - decoder_loss: 0.0161 - model_2_accuracy: 0.9971 - decoder_accuracy: 0.8111 - val_loss: 0.0631 - val_model_2_loss: 0.0464 - val_decoder_loss: 0.0161 - val_model_2_accuracy: 0.9887 - val_decoder_accuracy: 0.8099\n",
            "Epoch 42/50\n",
            "60000/60000 [==============================] - 6s 94us/step - loss: 0.0279 - model_2_loss: 0.0116 - decoder_loss: 0.0163 - model_2_accuracy: 0.9963 - decoder_accuracy: 0.8110 - val_loss: 0.0683 - val_model_2_loss: 0.0517 - val_decoder_loss: 0.0160 - val_model_2_accuracy: 0.9877 - val_decoder_accuracy: 0.8103\n",
            "Epoch 43/50\n",
            "60000/60000 [==============================] - 6s 95us/step - loss: 0.0258 - model_2_loss: 0.0097 - decoder_loss: 0.0161 - model_2_accuracy: 0.9969 - decoder_accuracy: 0.8110 - val_loss: 0.0616 - val_model_2_loss: 0.0450 - val_decoder_loss: 0.0161 - val_model_2_accuracy: 0.9891 - val_decoder_accuracy: 0.8100\n",
            "Epoch 44/50\n",
            "60000/60000 [==============================] - 6s 98us/step - loss: 0.0269 - model_2_loss: 0.0108 - decoder_loss: 0.0161 - model_2_accuracy: 0.9966 - decoder_accuracy: 0.8110 - val_loss: 0.0559 - val_model_2_loss: 0.0398 - val_decoder_loss: 0.0156 - val_model_2_accuracy: 0.9910 - val_decoder_accuracy: 0.8101\n",
            "Epoch 45/50\n",
            "60000/60000 [==============================] - 6s 97us/step - loss: 0.0251 - model_2_loss: 0.0090 - decoder_loss: 0.0161 - model_2_accuracy: 0.9971 - decoder_accuracy: 0.8111 - val_loss: 0.0731 - val_model_2_loss: 0.0558 - val_decoder_loss: 0.0167 - val_model_2_accuracy: 0.9861 - val_decoder_accuracy: 0.8097\n",
            "Epoch 46/50\n",
            "60000/60000 [==============================] - 6s 93us/step - loss: 0.0275 - model_2_loss: 0.0113 - decoder_loss: 0.0162 - model_2_accuracy: 0.9965 - decoder_accuracy: 0.8110 - val_loss: 0.0628 - val_model_2_loss: 0.0462 - val_decoder_loss: 0.0161 - val_model_2_accuracy: 0.9888 - val_decoder_accuracy: 0.8103\n",
            "Epoch 47/50\n",
            "60000/60000 [==============================] - 6s 94us/step - loss: 0.0270 - model_2_loss: 0.0109 - decoder_loss: 0.0160 - model_2_accuracy: 0.9967 - decoder_accuracy: 0.8111 - val_loss: 0.0621 - val_model_2_loss: 0.0460 - val_decoder_loss: 0.0155 - val_model_2_accuracy: 0.9893 - val_decoder_accuracy: 0.8099\n",
            "Epoch 48/50\n",
            "60000/60000 [==============================] - 6s 93us/step - loss: 0.0223 - model_2_loss: 0.0068 - decoder_loss: 0.0155 - model_2_accuracy: 0.9978 - decoder_accuracy: 0.8114 - val_loss: 0.0629 - val_model_2_loss: 0.0468 - val_decoder_loss: 0.0156 - val_model_2_accuracy: 0.9893 - val_decoder_accuracy: 0.8103\n",
            "Epoch 49/50\n",
            "60000/60000 [==============================] - 6s 94us/step - loss: 0.0248 - model_2_loss: 0.0091 - decoder_loss: 0.0157 - model_2_accuracy: 0.9971 - decoder_accuracy: 0.8113 - val_loss: 0.0651 - val_model_2_loss: 0.0492 - val_decoder_loss: 0.0153 - val_model_2_accuracy: 0.9885 - val_decoder_accuracy: 0.8103\n",
            "Epoch 50/50\n",
            "60000/60000 [==============================] - 6s 94us/step - loss: 0.0234 - model_2_loss: 0.0079 - decoder_loss: 0.0155 - model_2_accuracy: 0.9978 - decoder_accuracy: 0.8113 - val_loss: 0.0652 - val_model_2_loss: 0.0489 - val_decoder_loss: 0.0157 - val_model_2_accuracy: 0.9868 - val_decoder_accuracy: 0.8103\n"
          ],
          "name": "stdout"
        },
        {
          "output_type": "execute_result",
          "data": {
            "text/plain": [
              "<keras.callbacks.callbacks.History at 0x7f223e041f28>"
            ]
          },
          "metadata": {
            "tags": []
          },
          "execution_count": 25
        }
      ]
    }
  ]
}